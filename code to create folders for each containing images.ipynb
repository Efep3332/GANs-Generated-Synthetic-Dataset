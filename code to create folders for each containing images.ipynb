{
 "cells": [
  {
   "cell_type": "code",
   "execution_count": 2,
   "id": "33d3842f",
   "metadata": {},
   "outputs": [
    {
     "name": "stdout",
     "output_type": "stream",
     "text": [
      "Total images processed: 279\n",
      "Total images saved: 168\n"
     ]
    }
   ],
   "source": [
    "import os\n",
    "import shutil\n",
    "\n",
    "# Define the source folder path containing the images\n",
    "source_folder = r'C:\\Users\\net pc\\Desktop\\Project with Dr. Mumbi\\drive-download-20240404T140707Z-001'\n",
    "\n",
    "# Define the destination folder path where the new folders with image names will be saved\n",
    "destination_folder = r'C:\\Users\\net pc\\Desktop\\Project with Dr. Mumbi'\n",
    "\n",
    "# Initialize a counter to keep track of the number of images processed\n",
    "total_images = 0\n",
    "saved_images = 0\n",
    "\n",
    "# Iterate through each file in the source folder\n",
    "for filename in os.listdir(source_folder):\n",
    "    # Increment the total images counter\n",
    "    total_images += 1\n",
    "    \n",
    "    # Check if the file is a directory\n",
    "    if os.path.isdir(os.path.join(source_folder, filename)):\n",
    "        continue\n",
    "    \n",
    "    # Check if the file is an image (you can add more extensions if needed)\n",
    "    if filename.endswith((\".jpg\", \".jpeg\", \".png\")):\n",
    "        # Create a new folder with the same name as the image (without extension)\n",
    "        image_name = os.path.splitext(filename)[0]\n",
    "        new_folder_path = os.path.join(destination_folder, image_name)\n",
    "        os.makedirs(new_folder_path, exist_ok=True)\n",
    "        \n",
    "        # Copy the image file to the new folder\n",
    "        src = os.path.join(source_folder, filename)\n",
    "        dst = os.path.join(new_folder_path, filename)\n",
    "        \n",
    "        try:\n",
    "            shutil.copy(src, dst)\n",
    "            saved_images += 1\n",
    "        except Exception as e:\n",
    "            print(f\"Error copying {src}: {e}\")\n",
    "\n",
    "# Print summary\n",
    "print(f\"Total images processed: {total_images}\")\n",
    "print(f\"Total images saved: {saved_images}\")\n"
   ]
  },
  {
   "cell_type": "code",
   "execution_count": 5,
   "id": "a60fdf24",
   "metadata": {},
   "outputs": [
    {
     "name": "stdout",
     "output_type": "stream",
     "text": [
      "Total images processed: 112\n",
      "Total images saved: 111\n"
     ]
    }
   ],
   "source": [
    "import os\n",
    "import shutil\n",
    "\n",
    "# Define the source folder path containing the images\n",
    "source_folder = r'C:\\Users\\net pc\\Desktop\\New folder'\n",
    "\n",
    "# Convert all files to jpg format\n",
    "for filename in os.listdir(source_folder):\n",
    "    if filename.endswith(\".JPG\"):\n",
    "        os.rename(os.path.join(source_folder, filename), os.path.join(source_folder, filename[:-4] + \".jpg\"))\n",
    "\n",
    "# Define the destination folder path where the new folders with image names will be saved\n",
    "destination_folder = r'C:\\Users\\net pc\\Desktop\\New folder\\New folder'\n",
    "\n",
    "# Rest of the code\n",
    "total_images = 0\n",
    "saved_images = 0\n",
    "\n",
    "for filename in os.listdir(source_folder):\n",
    "    total_images += 1\n",
    "    if os.path.isdir(os.path.join(source_folder, filename)):\n",
    "        continue\n",
    "    \n",
    "    if filename.endswith((\".jpg\", \".jpeg\", \".png\")):\n",
    "        image_name = os.path.splitext(filename)[0]\n",
    "        index = 1\n",
    "        new_folder_path = os.path.join(destination_folder, image_name)\n",
    "        while os.path.exists(new_folder_path):\n",
    "            new_folder_path = os.path.join(destination_folder, f\"{image_name}_{index}\")\n",
    "            index += 1\n",
    "        os.makedirs(new_folder_path)\n",
    "        \n",
    "        src = os.path.join(source_folder, filename)\n",
    "        dst = os.path.join(new_folder_path, filename)\n",
    "        \n",
    "        try:\n",
    "            shutil.copy(src, dst)\n",
    "            saved_images += 1\n",
    "        except Exception as e:\n",
    "            print(f\"Error copying {src}: {e}\")\n",
    "\n",
    "# Print summary\n",
    "print(f\"Total images processed: {total_images}\")\n",
    "print(f\"Total images saved: {saved_images}\")\n"
   ]
  },
  {
   "cell_type": "code",
   "execution_count": 1,
   "id": "e0714e8d",
   "metadata": {},
   "outputs": [],
   "source": [
    "import os\n",
    "import shutil\n",
    "\n",
    "# Define the path to the folder containing the images\n",
    "folder_path = r'C:\\Users\\net pc\\Desktop\\Project with Dr. Mumbi\\drive-download-20240404T140707Z-001'\n",
    "\n",
    "# Iterate through each image file in the folder\n",
    "for filename in os.listdir(folder_path):\n",
    "    # Check if the file is an image (you can add more extensions if needed)\n",
    "    if filename.endswith(\".jpg\") or filename.endswith(\".png\") or filename.endswith(\".jpeg\"):\n",
    "        # Create a new folder with the same name as the image (without extension)\n",
    "        image_name = os.path.splitext(filename)[0]\n",
    "        new_folder_path = os.path.join(folder_path, image_name)\n",
    "        os.makedirs(new_folder_path, exist_ok=True)\n",
    "        \n",
    "        # Copy the image file to the new folder\n",
    "        src = os.path.join(folder_path, filename)\n",
    "        dst = os.path.join(new_folder_path, filename)\n",
    "        shutil.copy(src, dst)\n"
   ]
  },
  {
   "cell_type": "code",
   "execution_count": null,
   "id": "0c654c89",
   "metadata": {},
   "outputs": [],
   "source": []
  }
 ],
 "metadata": {
  "kernelspec": {
   "display_name": "Python 3 (ipykernel)",
   "language": "python",
   "name": "python3"
  },
  "language_info": {
   "codemirror_mode": {
    "name": "ipython",
    "version": 3
   },
   "file_extension": ".py",
   "mimetype": "text/x-python",
   "name": "python",
   "nbconvert_exporter": "python",
   "pygments_lexer": "ipython3",
   "version": "3.11.5"
  }
 },
 "nbformat": 4,
 "nbformat_minor": 5
}
