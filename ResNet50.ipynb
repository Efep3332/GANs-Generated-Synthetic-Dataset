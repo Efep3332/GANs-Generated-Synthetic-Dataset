{
 "cells": [
  {
   "cell_type": "code",
   "execution_count": 1,
   "id": "0b5138ee",
   "metadata": {},
   "outputs": [
    {
     "name": "stdout",
     "output_type": "stream",
     "text": [
      "WARNING:tensorflow:From C:\\Users\\Public\\Efendim\\Lib\\site-packages\\keras\\src\\losses.py:2976: The name tf.losses.sparse_softmax_cross_entropy is deprecated. Please use tf.compat.v1.losses.sparse_softmax_cross_entropy instead.\n",
      "\n"
     ]
    }
   ],
   "source": [
    "import numpy as np\n",
    "import pandas as pd\n",
    "from pathlib import Path\n",
    "import os.path\n",
    "\n",
    "import matplotlib.pyplot as plt\n",
    "import seaborn as sns\n",
    "\n",
    "from sklearn.model_selection import train_test_split\n",
    "\n",
    "import tensorflow as tf\n",
    "\n",
    "from sklearn.metrics import confusion_matrix, classification_report"
   ]
  },
  {
   "cell_type": "code",
   "execution_count": 2,
   "id": "41246c6c",
   "metadata": {},
   "outputs": [],
   "source": [
    "image_dir = Path(r\"C:\\Users\\net pc\\Desktop\\THESIS PROJECT\\AUGMENTED\\DATA\")"
   ]
  },
  {
   "cell_type": "code",
   "execution_count": 3,
   "id": "b46aa908",
   "metadata": {},
   "outputs": [],
   "source": [
    "filepaths = list(image_dir.glob(r'*/*.JPG'))\n",
    "labels = list(map(lambda x: os.path.split(os.path.split(x)[0])[1], filepaths))\n",
    "\n",
    "filepaths = pd.Series(filepaths, name='Filepath').astype(str)\n",
    "labels = pd.Series(labels, name='Label')\n",
    "\n",
    "image_df = pd.concat([filepaths, labels], axis=1)"
   ]
  },
  {
   "cell_type": "code",
   "execution_count": 4,
   "id": "7e15a0a1",
   "metadata": {},
   "outputs": [
    {
     "data": {
      "text/html": [
       "<div>\n",
       "<style scoped>\n",
       "    .dataframe tbody tr th:only-of-type {\n",
       "        vertical-align: middle;\n",
       "    }\n",
       "\n",
       "    .dataframe tbody tr th {\n",
       "        vertical-align: top;\n",
       "    }\n",
       "\n",
       "    .dataframe thead th {\n",
       "        text-align: right;\n",
       "    }\n",
       "</style>\n",
       "<table border=\"1\" class=\"dataframe\">\n",
       "  <thead>\n",
       "    <tr style=\"text-align: right;\">\n",
       "      <th></th>\n",
       "      <th>Filepath</th>\n",
       "      <th>Label</th>\n",
       "    </tr>\n",
       "  </thead>\n",
       "  <tbody>\n",
       "    <tr>\n",
       "      <th>0</th>\n",
       "      <td>C:\\Users\\net pc\\Desktop\\THESIS PROJECT\\AUGMENT...</td>\n",
       "      <td>brain_tumor_augmented</td>\n",
       "    </tr>\n",
       "    <tr>\n",
       "      <th>1</th>\n",
       "      <td>C:\\Users\\net pc\\Desktop\\THESIS PROJECT\\AUGMENT...</td>\n",
       "      <td>brain_tumor_augmented</td>\n",
       "    </tr>\n",
       "    <tr>\n",
       "      <th>2</th>\n",
       "      <td>C:\\Users\\net pc\\Desktop\\THESIS PROJECT\\AUGMENT...</td>\n",
       "      <td>brain_tumor_augmented</td>\n",
       "    </tr>\n",
       "    <tr>\n",
       "      <th>3</th>\n",
       "      <td>C:\\Users\\net pc\\Desktop\\THESIS PROJECT\\AUGMENT...</td>\n",
       "      <td>brain_tumor_augmented</td>\n",
       "    </tr>\n",
       "    <tr>\n",
       "      <th>4</th>\n",
       "      <td>C:\\Users\\net pc\\Desktop\\THESIS PROJECT\\AUGMENT...</td>\n",
       "      <td>brain_tumor_augmented</td>\n",
       "    </tr>\n",
       "    <tr>\n",
       "      <th>...</th>\n",
       "      <td>...</td>\n",
       "      <td>...</td>\n",
       "    </tr>\n",
       "    <tr>\n",
       "      <th>39995</th>\n",
       "      <td>C:\\Users\\net pc\\Desktop\\THESIS PROJECT\\AUGMENT...</td>\n",
       "      <td>kidney_tumor_augmented</td>\n",
       "    </tr>\n",
       "    <tr>\n",
       "      <th>39996</th>\n",
       "      <td>C:\\Users\\net pc\\Desktop\\THESIS PROJECT\\AUGMENT...</td>\n",
       "      <td>kidney_tumor_augmented</td>\n",
       "    </tr>\n",
       "    <tr>\n",
       "      <th>39997</th>\n",
       "      <td>C:\\Users\\net pc\\Desktop\\THESIS PROJECT\\AUGMENT...</td>\n",
       "      <td>kidney_tumor_augmented</td>\n",
       "    </tr>\n",
       "    <tr>\n",
       "      <th>39998</th>\n",
       "      <td>C:\\Users\\net pc\\Desktop\\THESIS PROJECT\\AUGMENT...</td>\n",
       "      <td>kidney_tumor_augmented</td>\n",
       "    </tr>\n",
       "    <tr>\n",
       "      <th>39999</th>\n",
       "      <td>C:\\Users\\net pc\\Desktop\\THESIS PROJECT\\AUGMENT...</td>\n",
       "      <td>kidney_tumor_augmented</td>\n",
       "    </tr>\n",
       "  </tbody>\n",
       "</table>\n",
       "<p>40000 rows × 2 columns</p>\n",
       "</div>"
      ],
      "text/plain": [
       "                                                Filepath  \\\n",
       "0      C:\\Users\\net pc\\Desktop\\THESIS PROJECT\\AUGMENT...   \n",
       "1      C:\\Users\\net pc\\Desktop\\THESIS PROJECT\\AUGMENT...   \n",
       "2      C:\\Users\\net pc\\Desktop\\THESIS PROJECT\\AUGMENT...   \n",
       "3      C:\\Users\\net pc\\Desktop\\THESIS PROJECT\\AUGMENT...   \n",
       "4      C:\\Users\\net pc\\Desktop\\THESIS PROJECT\\AUGMENT...   \n",
       "...                                                  ...   \n",
       "39995  C:\\Users\\net pc\\Desktop\\THESIS PROJECT\\AUGMENT...   \n",
       "39996  C:\\Users\\net pc\\Desktop\\THESIS PROJECT\\AUGMENT...   \n",
       "39997  C:\\Users\\net pc\\Desktop\\THESIS PROJECT\\AUGMENT...   \n",
       "39998  C:\\Users\\net pc\\Desktop\\THESIS PROJECT\\AUGMENT...   \n",
       "39999  C:\\Users\\net pc\\Desktop\\THESIS PROJECT\\AUGMENT...   \n",
       "\n",
       "                        Label  \n",
       "0       brain_tumor_augmented  \n",
       "1       brain_tumor_augmented  \n",
       "2       brain_tumor_augmented  \n",
       "3       brain_tumor_augmented  \n",
       "4       brain_tumor_augmented  \n",
       "...                       ...  \n",
       "39995  kidney_tumor_augmented  \n",
       "39996  kidney_tumor_augmented  \n",
       "39997  kidney_tumor_augmented  \n",
       "39998  kidney_tumor_augmented  \n",
       "39999  kidney_tumor_augmented  \n",
       "\n",
       "[40000 rows x 2 columns]"
      ]
     },
     "execution_count": 4,
     "metadata": {},
     "output_type": "execute_result"
    }
   ],
   "source": [
    "image_df"
   ]
  },
  {
   "cell_type": "code",
   "execution_count": 5,
   "id": "d3558137",
   "metadata": {},
   "outputs": [],
   "source": [
    "train_df, test_df = train_test_split(image_df, train_size=0.80, shuffle=True, random_state=1)"
   ]
  },
  {
   "cell_type": "code",
   "execution_count": 6,
   "id": "8a242c63",
   "metadata": {},
   "outputs": [],
   "source": [
    "from keras.preprocessing.image import ImageDataGenerator\n",
    "\n",
    "train_generator = tf.keras.preprocessing.image.ImageDataGenerator(rescale=1./255,\n",
    "                                                                  horizontal_flip=True,\n",
    "                                                                  width_shift_range=0.2,\n",
    "                                                                  height_shift_range=0.2,\n",
    "                                                                  validation_split=0.2)\n",
    "\n",
    "test_generator = tf.keras.preprocessing.image.ImageDataGenerator(rescale=1./255)"
   ]
  },
  {
   "cell_type": "code",
   "execution_count": 7,
   "id": "b2a37731",
   "metadata": {},
   "outputs": [
    {
     "name": "stdout",
     "output_type": "stream",
     "text": [
      "Found 25600 validated image filenames belonging to 2 classes.\n",
      "Found 6400 validated image filenames belonging to 2 classes.\n",
      "Found 8000 validated image filenames belonging to 2 classes.\n"
     ]
    }
   ],
   "source": [
    "train_images = train_generator.flow_from_dataframe(dataframe=train_df,\n",
    "                                                   x_col='Filepath',\n",
    "                                                   y_col='Label',\n",
    "                                                   target_size=(64, 64),\n",
    "                                                   color_mode='rgb',\n",
    "                                                   class_mode='binary',\n",
    "                                                   batch_size=32,\n",
    "                                                   shuffle=True,\n",
    "                                                   seed=42,\n",
    "                                                   subset='training')\n",
    "\n",
    "val_images = train_generator.flow_from_dataframe(dataframe=train_df,\n",
    "                                                 x_col='Filepath',\n",
    "                                                 y_col='Label',\n",
    "                                                 target_size=(64, 64),\n",
    "                                                 color_mode='rgb',\n",
    "                                                 class_mode='binary',\n",
    "                                                 batch_size=32,\n",
    "                                                 shuffle=True,\n",
    "                                                 seed=42,\n",
    "                                                 subset='validation')\n",
    "\n",
    "test_images = test_generator.flow_from_dataframe(dataframe=test_df,\n",
    "                                                 x_col='Filepath',\n",
    "                                                 y_col='Label',\n",
    "                                                 target_size=(64, 64),\n",
    "                                                 color_mode='rgb',\n",
    "                                                 class_mode='binary',\n",
    "                                                 batch_size=32,\n",
    "                                                 shuffle=False)"
   ]
  },
  {
   "cell_type": "code",
   "execution_count": 8,
   "id": "0be9f662",
   "metadata": {},
   "outputs": [
    {
     "name": "stdout",
     "output_type": "stream",
     "text": [
      "WARNING:tensorflow:From C:\\Users\\Public\\Efendim\\Lib\\site-packages\\keras\\src\\backend.py:1398: The name tf.executing_eagerly_outside_functions is deprecated. Please use tf.compat.v1.executing_eagerly_outside_functions instead.\n",
      "\n",
      "WARNING:tensorflow:From C:\\Users\\Public\\Efendim\\Lib\\site-packages\\keras\\src\\layers\\normalization\\batch_normalization.py:979: The name tf.nn.fused_batch_norm is deprecated. Please use tf.compat.v1.nn.fused_batch_norm instead.\n",
      "\n"
     ]
    }
   ],
   "source": [
    "import keras\n",
    "from keras.models import Sequential\n",
    "from keras.layers import Dense, Conv3D, MaxPool3D , Dropout, Flatten\n",
    "from tensorflow.keras.layers import Dropout\n",
    "\n",
    "ResNet = tf.keras.applications.resnet50.ResNet50(\n",
    "    include_top=False,\n",
    "    weights='imagenet',\n",
    "    input_shape=(64, 64, 3))\n",
    "\n",
    "\n",
    "#ResNet = ResNet50(input_shape= (64, 64, 3), weights='imagenet', include_top=False)\n",
    "ResNet.trainable = False"
   ]
  },
  {
   "cell_type": "code",
   "execution_count": 9,
   "id": "348976de",
   "metadata": {},
   "outputs": [],
   "source": [
    "model = keras.Sequential([\n",
    "    ResNet,\n",
    "    keras.layers.Flatten(),\n",
    "#    keras.layers.Dropout(0.5),\n",
    "#    keras.layers.Dense(units=32, activation='relu'),\n",
    "#    keras.layers.Dropout(0.25),\n",
    "    keras.layers.Dense(units=1, activation='sigmoid'),\n",
    "])"
   ]
  },
  {
   "cell_type": "code",
   "execution_count": 10,
   "id": "5f52fedc",
   "metadata": {},
   "outputs": [
    {
     "name": "stdout",
     "output_type": "stream",
     "text": [
      "WARNING:tensorflow:From C:\\Users\\Public\\Efendim\\Lib\\site-packages\\keras\\src\\optimizers\\__init__.py:309: The name tf.train.Optimizer is deprecated. Please use tf.compat.v1.train.Optimizer instead.\n",
      "\n"
     ]
    }
   ],
   "source": [
    "model.compile(\n",
    "  loss='binary_crossentropy',\n",
    "  optimizer='adam',\n",
    "  metrics=['accuracy']\n",
    ")"
   ]
  },
  {
   "cell_type": "code",
   "execution_count": 11,
   "id": "fe67c854",
   "metadata": {},
   "outputs": [
    {
     "name": "stdout",
     "output_type": "stream",
     "text": [
      "Model: \"sequential\"\n",
      "_________________________________________________________________\n",
      " Layer (type)                Output Shape              Param #   \n",
      "=================================================================\n",
      " resnet50 (Functional)       (None, 2, 2, 2048)        23587712  \n",
      "                                                                 \n",
      " flatten (Flatten)           (None, 8192)              0         \n",
      "                                                                 \n",
      " dense (Dense)               (None, 1)                 8193      \n",
      "                                                                 \n",
      "=================================================================\n",
      "Total params: 23595905 (90.01 MB)\n",
      "Trainable params: 8193 (32.00 KB)\n",
      "Non-trainable params: 23587712 (89.98 MB)\n",
      "_________________________________________________________________\n"
     ]
    }
   ],
   "source": [
    "model.summary()"
   ]
  },
  {
   "cell_type": "code",
   "execution_count": 12,
   "id": "dfa027e1",
   "metadata": {},
   "outputs": [
    {
     "name": "stdout",
     "output_type": "stream",
     "text": [
      "<keras.src.engine.functional.Functional object at 0x0000025315C87AD0> False\n",
      "<keras.src.layers.reshaping.flatten.Flatten object at 0x00000253151523D0> True\n",
      "<keras.src.layers.core.dense.Dense object at 0x0000025315C98C90> True\n"
     ]
    }
   ],
   "source": [
    "for layer in model.layers:\n",
    "    print(layer, layer.trainable)"
   ]
  },
  {
   "cell_type": "code",
   "execution_count": null,
   "id": "9ffe53a7",
   "metadata": {},
   "outputs": [
    {
     "name": "stdout",
     "output_type": "stream",
     "text": [
      "Epoch 1/50\n",
      "WARNING:tensorflow:From C:\\Users\\Public\\Efendim\\Lib\\site-packages\\keras\\src\\utils\\tf_utils.py:492: The name tf.ragged.RaggedTensorValue is deprecated. Please use tf.compat.v1.ragged.RaggedTensorValue instead.\n",
      "\n",
      "WARNING:tensorflow:From C:\\Users\\Public\\Efendim\\Lib\\site-packages\\keras\\src\\engine\\base_layer_utils.py:384: The name tf.executing_eagerly_outside_functions is deprecated. Please use tf.compat.v1.executing_eagerly_outside_functions instead.\n",
      "\n",
      "800/800 [==============================] - 141s 174ms/step - loss: 0.3939 - accuracy: 0.8396 - val_loss: 0.3196 - val_accuracy: 0.8725 - lr: 0.0010\n",
      "Epoch 2/50\n",
      "800/800 [==============================] - 245s 306ms/step - loss: 0.3005 - accuracy: 0.8770 - val_loss: 0.2836 - val_accuracy: 0.8938 - lr: 0.0010\n",
      "Epoch 3/50\n",
      "800/800 [==============================] - 238s 297ms/step - loss: 0.2662 - accuracy: 0.8921 - val_loss: 0.2615 - val_accuracy: 0.8916 - lr: 0.0010\n",
      "Epoch 4/50\n",
      "800/800 [==============================] - 242s 302ms/step - loss: 0.2478 - accuracy: 0.9000 - val_loss: 0.2457 - val_accuracy: 0.9039 - lr: 0.0010\n",
      "Epoch 5/50\n",
      "800/800 [==============================] - 238s 297ms/step - loss: 0.2411 - accuracy: 0.9036 - val_loss: 0.2401 - val_accuracy: 0.9017 - lr: 0.0010\n",
      "Epoch 6/50\n",
      "800/800 [==============================] - 236s 295ms/step - loss: 0.2353 - accuracy: 0.9054 - val_loss: 0.2274 - val_accuracy: 0.9119 - lr: 0.0010\n",
      "Epoch 7/50\n",
      "800/800 [==============================] - 241s 302ms/step - loss: 0.2225 - accuracy: 0.9123 - val_loss: 0.2291 - val_accuracy: 0.9050 - lr: 0.0010\n",
      "Epoch 8/50\n",
      "800/800 [==============================] - 242s 302ms/step - loss: 0.2245 - accuracy: 0.9079 - val_loss: 0.2227 - val_accuracy: 0.9136 - lr: 0.0010\n",
      "Epoch 9/50\n",
      "800/800 [==============================] - 245s 305ms/step - loss: 0.2157 - accuracy: 0.9137 - val_loss: 0.2169 - val_accuracy: 0.9183 - lr: 0.0010\n",
      "Epoch 10/50\n",
      "800/800 [==============================] - 243s 303ms/step - loss: 0.2093 - accuracy: 0.9155 - val_loss: 0.2110 - val_accuracy: 0.9197 - lr: 0.0010\n",
      "Epoch 11/50\n",
      "800/800 [==============================] - 242s 302ms/step - loss: 0.2070 - accuracy: 0.9165 - val_loss: 0.2087 - val_accuracy: 0.9252 - lr: 0.0010\n",
      "Epoch 12/50\n",
      "800/800 [==============================] - 236s 295ms/step - loss: 0.2044 - accuracy: 0.9200 - val_loss: 0.2072 - val_accuracy: 0.9205 - lr: 0.0010\n",
      "Epoch 13/50\n",
      "800/800 [==============================] - 236s 295ms/step - loss: 0.2020 - accuracy: 0.9210 - val_loss: 0.2014 - val_accuracy: 0.9231 - lr: 0.0010\n",
      "Epoch 14/50\n",
      "800/800 [==============================] - 240s 300ms/step - loss: 0.2007 - accuracy: 0.9193 - val_loss: 0.2033 - val_accuracy: 0.9197 - lr: 0.0010\n",
      "Epoch 15/50\n",
      "800/800 [==============================] - 241s 301ms/step - loss: 0.1977 - accuracy: 0.9221 - val_loss: 0.2000 - val_accuracy: 0.9191 - lr: 0.0010\n",
      "Epoch 16/50\n",
      "800/800 [==============================] - 243s 303ms/step - loss: 0.1969 - accuracy: 0.9232 - val_loss: 0.2026 - val_accuracy: 0.9223 - lr: 0.0010\n",
      "Epoch 17/50\n",
      "800/800 [==============================] - 247s 309ms/step - loss: 0.1967 - accuracy: 0.9216 - val_loss: 0.1972 - val_accuracy: 0.9231 - lr: 0.0010\n",
      "Epoch 18/50\n",
      "800/800 [==============================] - 248s 309ms/step - loss: 0.1925 - accuracy: 0.9248 - val_loss: 0.1927 - val_accuracy: 0.9237 - lr: 0.0010\n",
      "Epoch 19/50\n",
      "800/800 [==============================] - 244s 304ms/step - loss: 0.1906 - accuracy: 0.9233 - val_loss: 0.1892 - val_accuracy: 0.9255 - lr: 0.0010\n",
      "Epoch 20/50\n",
      "800/800 [==============================] - 243s 303ms/step - loss: 0.1900 - accuracy: 0.9246 - val_loss: 0.1908 - val_accuracy: 0.9294 - lr: 0.0010\n",
      "Epoch 21/50\n",
      "800/800 [==============================] - 250s 312ms/step - loss: 0.1892 - accuracy: 0.9248 - val_loss: 0.1891 - val_accuracy: 0.9256 - lr: 0.0010\n",
      "Epoch 22/50\n",
      "800/800 [==============================] - 257s 321ms/step - loss: 0.1865 - accuracy: 0.9267 - val_loss: 0.1949 - val_accuracy: 0.9237 - lr: 0.0010\n",
      "Epoch 23/50\n",
      "800/800 [==============================] - 255s 318ms/step - loss: 0.1853 - accuracy: 0.9259 - val_loss: 0.1953 - val_accuracy: 0.9242 - lr: 1.0000e-04\n",
      "Epoch 24/50\n",
      "800/800 [==============================] - 250s 312ms/step - loss: 0.1790 - accuracy: 0.9304 - val_loss: 0.1907 - val_accuracy: 0.9244 - lr: 1.0000e-04\n",
      "Epoch 25/50\n",
      "800/800 [==============================] - ETA: 0s - loss: 0.1867 - accuracy: 0.9279"
     ]
    }
   ],
   "source": [
    "history = model.fit(\n",
    "    train_images,\n",
    "    validation_data=val_images,\n",
    "    epochs=50,\n",
    "    callbacks=[\n",
    "        tf.keras.callbacks.EarlyStopping(\n",
    "            monitor='val_loss',\n",
    "            patience=5,\n",
    "            restore_best_weights=True\n",
    "        ),\n",
    "        tf.keras.callbacks.ReduceLROnPlateau(\n",
    "            monitor='val_loss',\n",
    "            patience=3\n",
    "        )\n",
    "    ]\n",
    ")"
   ]
  },
  {
   "cell_type": "code",
   "execution_count": null,
   "id": "53aa6b48",
   "metadata": {},
   "outputs": [],
   "source": [
    "import matplotlib.pyplot as plt\n",
    "\n",
    "#plt.figure(figsize=(14, 10))\n",
    "plt.plot(history.history['accuracy'])\n",
    "plt.plot(history.history['val_accuracy'])\n",
    "plt.title('VGG16 Model Accuracy')\n",
    "plt.ylabel('Accuracy')\n",
    "plt.xlabel('Epoch')\n",
    "plt.legend(['Accuracy', 'Validation Accuracy', 'loss', 'Validation Loss'])\n",
    "plt.show()"
   ]
  },
  {
   "cell_type": "code",
   "execution_count": null,
   "id": "9f28dded",
   "metadata": {},
   "outputs": [],
   "source": [
    "import matplotlib.pyplot as plt\n",
    "\n",
    "#plt.figure(figsize=(14, 10))\n",
    "plt.plot(history.history['loss'])\n",
    "plt.plot(history.history['val_loss'])\n",
    "plt.title('VGG16 Model Loss')\n",
    "plt.ylabel('Loss')\n",
    "plt.xlabel('Epoch')\n",
    "plt.legend(['Train', 'Test'], loc='upper right')\n",
    "plt.show()"
   ]
  },
  {
   "cell_type": "code",
   "execution_count": null,
   "id": "7a9514d1",
   "metadata": {},
   "outputs": [],
   "source": [
    "results = model.evaluate(test_images, verbose=0)\n",
    "\n",
    "print(\"    Test Loss: {:.5f}\".format(results[0]))\n",
    "print(\"Test Accuracy: {:.2f}%\".format(results[1] * 100))"
   ]
  },
  {
   "cell_type": "code",
   "execution_count": null,
   "id": "d2c8059b",
   "metadata": {
    "scrolled": false
   },
   "outputs": [],
   "source": [
    "predictions = (model.predict(test_images) >= 0.5).astype(int)\n",
    "\n",
    "cm = confusion_matrix(test_images.labels, predictions, labels=[0, 1])\n",
    "clr = classification_report(test_images.labels, predictions, labels=[0, 1], target_names=[\"Brain Tumor\", \"Kidney tumor\"])\n",
    "\n",
    "plt.figure(figsize=(6, 6))\n",
    "sns.heatmap(cm, annot=True, fmt='g', vmin=0, cmap='Blues', cbar=False)\n",
    "plt.xticks(ticks=[0.5, 1.5], labels=[\"Brain Tumor\", \"Kidney tumor\"])\n",
    "plt.yticks(ticks=[0.5, 1.5], labels=[\"Brain Tumor\", \"Kidney tumor\"])\n",
    "plt.xlabel(\"Predicted\")\n",
    "plt.ylabel(\"Actual\")\n",
    "plt.title(\"Confusion Matrix of VGG16 Model\")\n",
    "plt.show()\n",
    "\n",
    "print(\"Classification Report:\\n----------------------\\n\", clr)"
   ]
  },
  {
   "cell_type": "code",
   "execution_count": null,
   "id": "5690f1cb",
   "metadata": {},
   "outputs": [],
   "source": [
    "# Obtain predicted probabilities\n",
    "from sklearn.metrics import roc_auc_score, roc_curve\n",
    "\n",
    "predicted_probabilities = model.predict(test_images)\n",
    "\n",
    "# Compute AUC ROC\n",
    "auc_roc = roc_auc_score(test_images.labels, predicted_probabilities)\n",
    "\n",
    "print(\"AUC ROC: {:.5f}\".format(auc_roc))\n",
    "\n",
    "# Plot ROC curve\n",
    "fpr, tpr, thresholds = roc_curve(test_images.labels, predicted_probabilities)\n",
    "\n",
    "plt.figure()\n",
    "plt.plot(fpr, tpr, label='ROC curve (area = {:.2f})'.format(auc_roc))\n",
    "plt.plot([0, 1], [0, 1], 'k--')\n",
    "plt.xlim([0.0, 1.0])\n",
    "plt.ylim([0.0, 1.05])\n",
    "plt.xlabel('False Positive Rate')\n",
    "plt.ylabel('True Positive Rate')\n",
    "plt.title('Receiver Operating Characteristic (ROC) Curve')\n",
    "plt.legend(loc='lower right')\n",
    "plt.show()"
   ]
  },
  {
   "cell_type": "code",
   "execution_count": null,
   "id": "a062ca18",
   "metadata": {},
   "outputs": [],
   "source": [
    "# save the model to a file\n",
    "model.save('ResNet50-Brain Tumor vs Kidney tumor .h5')"
   ]
  },
  {
   "cell_type": "code",
   "execution_count": null,
   "id": "81cb249e",
   "metadata": {},
   "outputs": [],
   "source": []
  }
 ],
 "metadata": {
  "kernelspec": {
   "display_name": "Python 3 (ipykernel)",
   "language": "python",
   "name": "python3"
  },
  "language_info": {
   "codemirror_mode": {
    "name": "ipython",
    "version": 3
   },
   "file_extension": ".py",
   "mimetype": "text/x-python",
   "name": "python",
   "nbconvert_exporter": "python",
   "pygments_lexer": "ipython3",
   "version": "3.11.5"
  }
 },
 "nbformat": 4,
 "nbformat_minor": 5
}
